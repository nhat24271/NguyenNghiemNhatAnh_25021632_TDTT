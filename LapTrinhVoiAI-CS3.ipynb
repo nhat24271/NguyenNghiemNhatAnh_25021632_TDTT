{
 "cells": [
  {
   "cell_type": "code",
   "execution_count": 4,
   "id": "200855dc",
   "metadata": {},
   "outputs": [
    {
     "name": "stdout",
     "output_type": "stream",
     "text": [
      "2\n"
     ]
    }
   ],
   "source": [
    "#W1A1\n",
    "a = 7 #Khai báo biến tên a và gán giá trị 7 cho biến a\n",
    "b = 5 #Khai báo biến tên b và gán giá trị 5 cho biến b\n",
    "c = a - b #Thực hiện phép trừ giá trị được gán của biến a cho giá trị được gán của biến b\n",
    "print(c) #In ra kết quá của phép trừ 7-5=2"
   ]
  },
  {
   "cell_type": "code",
   "execution_count": 1,
   "id": "961fe4f0",
   "metadata": {},
   "outputs": [
    {
     "name": "stdout",
     "output_type": "stream",
     "text": [
      "Thành phố: Hà Nội -Năm: 2025\n"
     ]
    }
   ],
   "source": [
    "#W1A2\n",
    "city = \"Hà Nội\" #Khai báo biến city và gán cho biến giá trị là 1 chuỗi kí tự \"Hầ Nội\"\n",
    "year = 2025 #Khai báo biến year và gán cho biến giá trị là 2025\n",
    "print(\"Thành phố:\" ,city, \"-Năm:\" , year) #In ra chuỗi \"Thành phố:\" biến \"city\" , chuỗi \"-Năm:\" biến \"year\""
   ]
  },
  {
   "cell_type": "code",
   "execution_count": null,
   "id": "421157d4",
   "metadata": {},
   "outputs": [
    {
     "name": "stdout",
     "output_type": "stream",
     "text": [
      "1\n",
      "3\n",
      "6\n",
      "10\n"
     ]
    }
   ],
   "source": [
    "#W1A3\n",
    "n = 4 #Khai biến tên n và gán giá trị là 4\n",
    "t = 0 #Khai biến tên t và gán giá trị là 0 và biến này sẽ được dùng để lưu trữ tổng cộng dồn\n",
    "for i in range(1,n+1): #Dùng vòng lặp for...range để tạo ra 1 dãy số từ 1 đến 4+1=5\n",
    "    t += i # toán tử \"+=\" nghĩa à t = t + i và với mỗi 1 số trong dãy (1,n+1) sẽ được thay vào i để thực hiện phép tính và sau đó biến t sẽ lưu kết quả mới và gán kết quả mới cho lần thực hiện phép toán tiếp theo\n",
    "    print(t) # print(t) vẫn ở trong vòng lặp nên nó thực hiện việc in giá trị của biến t ngay sau khi biến thực hiện 1 phép toán"
   ]
  },
  {
   "cell_type": "code",
   "execution_count": 14,
   "id": "b3d8e531",
   "metadata": {},
   "outputs": [
    {
     "name": "stdout",
     "output_type": "stream",
     "text": [
      "1 là số lẻ\n",
      "2 là số chẵn\n",
      "3 là số lẻ\n",
      "4 là số chẵn\n"
     ]
    }
   ],
   "source": [
    "#W1A4\n",
    "numbers = [1, 2, 3, 4] # Tạo ra một danh sách [1, 2, 3, 4] và gán cho nó vào biến numbers\n",
    "for x in numbers: #dùng vòng lặp for để nó quét qua từng phần tử trong danh sách numbers, ở mỗi lần lặp thì phần tử hiện tại được gán cho biến x\n",
    "    if x % 2 == 0: # \"%\"dùng để thực hiện phép toán chia lấy phần dư và mang đi so sánh (==) với 0, với mỗi giá trị được thay vào biến x máy sẽ thực hiện phép chia lấy dư và so sánh 1 lần và đối chiếu với điều kiện ở bên dưới\n",
    "        print(x, \"là số chẵn\") #Nếu phần dư của phép toán bằng 0 => x là số chẵn và được in ra nhờ dòng này\n",
    "    else:\n",
    "        print(x, \"là số lẻ\") # Nếu phần dư của phép toán bằng 1 => x là số lẻ và được in ra nhờ dòng này"
   ]
  },
  {
   "cell_type": "code",
   "execution_count": 3,
   "id": "cdfee279",
   "metadata": {},
   "outputs": [
    {
     "name": "stdout",
     "output_type": "stream",
     "text": [
      "Số phần tử trong danh sách là: 4\n"
     ]
    }
   ],
   "source": [
    "#W1A5\n",
    "animals =[\"cat\", \"dog\", \"cat\", \"bird\"] #Tạo 1 danh sách gồm các phần tử trong danh sách\n",
    "count = 0 # Khời tạo biến \"count\" và gán cho nó giá trị ban đầu là 0\n",
    "for a in animals: #Dùng vòng lặp for để máy quét qua cả danh sách animals\n",
    "    count += 1 #Biến count nằm trong for và toán tử \"+=\" có tác dụng +1 vào biến count với mỗi phần tử có trong tập animals\n",
    "\n",
    "print(\"Số phần tử trong danh sách là:\" ,count) #Vì print() nằm ở ngoài for nên sẽ chỉ in ra kết quả cuối cùng của biến count\n"
   ]
  },
  {
   "cell_type": "code",
   "execution_count": 8,
   "id": "78497dc3",
   "metadata": {},
   "outputs": [
    {
     "name": "stdout",
     "output_type": "stream",
     "text": [
      "===AI Prediction System===\n",
      "1) Sentiment analysis\n",
      "2) Weather forecast\n",
      "3) Exit\n"
     ]
    }
   ],
   "source": [
    "#W1A6\n",
    "print(\"===AI Prediction System===\") #In tiêu đề\n",
    "print(\"1) Sentiment analysis\")\n",
    "print(\"2) Weather forecast\")\n",
    "print(\"3) Exit\")\n",
    "#In ra 3 lựa chọn cho người dùng\n",
    "choose = input(\"Please choose an option: \") #Khai bao biến choose để người dùng có thể chọn 1 trong 3 option"
   ]
  },
  {
   "cell_type": "code",
   "execution_count": 7,
   "id": "bf8c0e10",
   "metadata": {},
   "outputs": [
    {
     "name": "stdout",
     "output_type": "stream",
     "text": [
      "Số chẫn\n"
     ]
    }
   ],
   "source": [
    "#W1A7\n",
    "#num = input(\"Nhập số:\") Vì hàm input() luôn trả dữ liệu ở dang chuỗi ký tự string, nên cần định dạng trước cho dữ liệu mà mình sắp nhập vào\n",
    "#if num % 2 = 0: Vì \"=\" là phép gán chứ không phải so sánh, nên cần dùng \"==\" để thực hiện 1 phép so sánh\n",
    "#    print(\"Số chẵn\")\n",
    "#else                    Thiếu dấu \":\"nên máy sẽ báo lỗi và không in ra kết quả\n",
    "#     print(\"Số lẻ\")\n",
    "#SỬA:\n",
    "num = int(input(\"Nhập số: \"))\n",
    "if num % 2 == 0:\n",
    "    print(\"Số chẫn\")\n",
    "else:\n",
    "    print(\"Số lẻ\")"
   ]
  },
  {
   "cell_type": "code",
   "execution_count": null,
   "id": "d8ca57d0",
   "metadata": {},
   "outputs": [
    {
     "name": "stdout",
     "output_type": "stream",
     "text": [
      "AI đang huấn luyện lần:  1\n",
      "AI đang huấn luyện lần:  2\n",
      "AI đang huấn luyện lần:  3\n",
      "Huấn luyện xong!\n"
     ]
    }
   ],
   "source": [
    "#W1A8\n",
    "#Đoạn code sẽ in ra một chuỗi: AI đang huấn luyện lần:1\n",
    "#                              AI đang huấn luyện lần:2\n",
    "#                              AI đang huấn luyện lần:3\n",
    "#                              Huấn luyện xong!\n",
    "for i in range(3):\n",
    "    print(\"AI đang huấn luyện lần: \", i+1)\n",
    "print(\"Huấn luyện xong!\")"
   ]
  },
  {
   "cell_type": "code",
   "execution_count": null,
   "id": "42dc9058",
   "metadata": {},
   "outputs": [
    {
     "name": "stdout",
     "output_type": "stream",
     "text": [
      "Dự đoán con vật: cat\n",
      "Dự đoán con vật: dog\n",
      "Dự đoán con vật: fish\n"
     ]
    }
   ],
   "source": [
    "#W1A9\n",
    "#Đoạn code sẽ in ra 3 dòng gồm:\n",
    "#Dự đoán con vật: cat\n",
    "#Dự đoán con vật: dog\n",
    "#Dự đoán con vật: fish\n",
    "\n",
    "for x in [\"cat\", \"dog\", \"fish\"]:\n",
    "    print(\"Dự đoán con vật:\", x)"
   ]
  },
  {
   "cell_type": "code",
   "execution_count": 14,
   "id": "086de781",
   "metadata": {},
   "outputs": [
    {
     "name": "stdout",
     "output_type": "stream",
     "text": [
      "=== AI Prediction System ===\n",
      "1)Sentiment analysis\n",
      "2)Weather forecast\n",
      "3)Exit\n",
      "Please choose an option:\n"
     ]
    }
   ],
   "source": [
    "#W1A10\n",
    "#Simple menu\n",
    "#print\"=== AI Prediction System ===\" Lỗi thiếu ngoặc tròn khi dùng print\n",
    "#print(\"1) Sentiment analysis\" Lỗi thiếu 1 dấu ngoặc tròn khi dùng print\n",
    "#print(\"2) Weather forecast\")) Lỗi thừa 1 dấu ngoặc tròn khi dùng print\n",
    "#print('3) Exit\" Lỗi đung sai ngoặc đơn và thiếu 1 dấu ngoặc tròn khi dùng print\n",
    "#print(\"Please choose an option:\")\n",
    "\n",
    "#SỬA:\n",
    "#Simple menu\n",
    "print(\"=== AI Prediction System ===\")\n",
    "print(\"1)Sentiment analysis\")\n",
    "print(\"2)Weather forecast\")\n",
    "print(\"3)Exit\")\n",
    "print(\"Please choose an option:\")\n",
    "\n"
   ]
  }
 ],
 "metadata": {
  "kernelspec": {
   "display_name": "Python 3",
   "language": "python",
   "name": "python3"
  },
  "language_info": {
   "codemirror_mode": {
    "name": "ipython",
    "version": 3
   },
   "file_extension": ".py",
   "mimetype": "text/x-python",
   "name": "python",
   "nbconvert_exporter": "python",
   "pygments_lexer": "ipython3",
   "version": "3.11.9"
  }
 },
 "nbformat": 4,
 "nbformat_minor": 5
}
