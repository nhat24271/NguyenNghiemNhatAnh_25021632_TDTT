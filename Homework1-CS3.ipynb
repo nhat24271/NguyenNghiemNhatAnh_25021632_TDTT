{
 "cells": [
  {
   "cell_type": "code",
   "execution_count": 1,
   "id": "255bdcae",
   "metadata": {},
   "outputs": [
    {
     "name": "stdout",
     "output_type": "stream",
     "text": [
      "8\n"
     ]
    }
   ],
   "source": [
    "#Bài 1\n",
    "a = int(input('Nhập vào số nguyên n: '))\n",
    "print(a*2)"
   ]
  },
  {
   "cell_type": "code",
   "execution_count": 3,
   "id": "df61cd67",
   "metadata": {},
   "outputs": [
    {
     "name": "stdout",
     "output_type": "stream",
     "text": [
      "Phần diện tích còn lại để trồng cây xanh là: 6.86\n"
     ]
    }
   ],
   "source": [
    "#Bài 2\n",
    "a = float(input('Nhập chiều rộng: '))\n",
    "b = float(input('Nhập chiều dài: '))\n",
    "S_tron = (a/2)**2*3.14\n",
    "S_vuong = a*b\n",
    "S_con = S_vuong - S_tron\n",
    "print(f'Phần diện tích còn lại để trồng cây xanh là: {S_con:.2f}')"
   ]
  },
  {
   "cell_type": "code",
   "execution_count": 10,
   "id": "c308c453",
   "metadata": {},
   "outputs": [
    {
     "name": "stdout",
     "output_type": "stream",
     "text": [
      "a\n"
     ]
    }
   ],
   "source": [
    "#Bài 3\n",
    "nhap = input('Nhập một chữ cái bất kì: ')\n",
    "in_hoa = nhap.upper()\n",
    "in_thuong =nhap.lower()\n",
    "if nhap == in_hoa:\n",
    "    print(in_thuong)\n",
    "else:\n",
    "    print(in_hoa)\n",
    "    \n",
    "    "
   ]
  },
  {
   "cell_type": "code",
   "execution_count": 7,
   "id": "a63ad33c",
   "metadata": {},
   "outputs": [
    {
     "name": "stdout",
     "output_type": "stream",
     "text": [
      "A là kí tự alphabet.\n"
     ]
    }
   ],
   "source": [
    "#Bài 4\n",
    "c = input('Nhập kí tự: ')\n",
    "if c.isalpha():\n",
    "    print(f'{c} là kí tự alphabet.')\n",
    "else:\n",
    "    print(f'{c} không phải là kí tự alphabet.')\n"
   ]
  },
  {
   "cell_type": "code",
   "execution_count": 3,
   "id": "733f67c2",
   "metadata": {},
   "outputs": [
    {
     "name": "stdout",
     "output_type": "stream",
     "text": [
      "Chữ cái thường đứng trước G là: f\n"
     ]
    }
   ],
   "source": [
    "#Bài 5\n",
    "hoa = input('Nhập vào chữ cái in hoa: ')\n",
    "if 'A' <= hoa <= 'Z':\n",
    "    if hoa == 'A':\n",
    "        print(f'Chữ cái thường đứng trước A là: z')\n",
    "    else:\n",
    "        uni_code = ord(hoa) - 1\n",
    "        chu_thuong = chr(uni_code).lower()\n",
    "        print(f'Chữ cái thường đứng trước {hoa} là: {chu_thuong}')\n",
    "else:\n",
    "    print('Đây không phải là chữ cái in hoa.')\n"
   ]
  },
  {
   "cell_type": "code",
   "execution_count": 3,
   "id": "800883d0",
   "metadata": {},
   "outputs": [
    {
     "name": "stdout",
     "output_type": "stream",
     "text": [
      "Diện tích của tam giác là: 6.0\n"
     ]
    }
   ],
   "source": [
    "#Bài 6\n",
    "a = float(input('Nhập độ dài cạnh a: '))\n",
    "b = float(input('Nhập độ dài cạnh b: '))\n",
    "c = float(input('Nhập độ dài cạnh c: '))\n",
    "if a>0 and b>0 and c>0 and (a+b>c) and (a+c>b) and (b+c>a):\n",
    "    p = (a+b+c)/2\n",
    "    S = (p*(p-a)*(p-b)*(p-c))**0.5\n",
    "    print(f'Diện tích của tam giác là: {S:.1f}')\n",
    "else:\n",
    "    print('Đây không phải là 1 tam giác.')"
   ]
  },
  {
   "cell_type": "code",
   "execution_count": 5,
   "id": "1a394542",
   "metadata": {},
   "outputs": [
    {
     "name": "stdout",
     "output_type": "stream",
     "text": [
      "ký tự thứ năm trong chuỗi là:c\n",
      "ký tự thứ chín trong chuỗi là: t\n"
     ]
    }
   ],
   "source": [
    "#Bài 7\n",
    "chuoi = input('Nhập vào 1 chuỗi gồm các kí tự thường độ dài >=20:')\n",
    "if len(chuoi) >= 20:\n",
    "    thu_nam = chuoi[4]\n",
    "    thu_chin = chuoi[8]\n",
    "    print(f'ký tự thứ năm trong chuỗi là:{thu_nam}')\n",
    "    print(f'ký tự thứ chín trong chuỗi là: {thu_chin}')\n",
    "else:\n",
    "    print('Chuỗi chứa ít hơn 20 kí tự')"
   ]
  },
  {
   "cell_type": "code",
   "execution_count": 19,
   "id": "73f3d9e3",
   "metadata": {},
   "outputs": [
    {
     "name": "stdout",
     "output_type": "stream",
     "text": [
      "Họ và tên: Nguyễn Xuân Long\n",
      "Tiền phải trả là: 426038\n"
     ]
    }
   ],
   "source": [
    "#Bài 8\n",
    "ho_ten = input('Tên chủ hộ: ')\n",
    "so_thang_truoc = int(input('Chỉ số tháng trước: '))\n",
    "so_thang_sau = int(input('Chỉ số tháng sau: '))\n",
    "delta = so_thang_sau - so_thang_truoc\n",
    "print(f'Họ và tên: {ho_ten}')\n",
    "if so_thang_sau >= so_thang_truoc:\n",
    "    if 0 < delta <= 50:\n",
    "        so_tien = delta * 1984\n",
    "    elif  50 < delta <= 100:\n",
    "        so_tien = 50*1984 + (delta-50)*2050\n",
    "    elif 100 < delta <= 200:\n",
    "        so_tien = 50*1984 + 50*2050 + (delta-100)*2380\n",
    "    elif 200 < delta <= 300:\n",
    "        so_tien = 50*1984 + 50*2050 + 100*2380 + (delta-200)*2998\n",
    "    elif 300 < delta <= 400:\n",
    "        so_tien = 50*1984 + 50*2050 + 100*2380 + 100*2998 + (delta-300)*3350\n",
    "    elif delta > 400:\n",
    "        so_tien =50*1984 + 50*2050 + 100*2380 + 100*2998 + 100*3350 + (delta-400)*3460\n",
    "    VAT = so_tien * 0.08\n",
    "    tien = so_tien + VAT\n",
    "    print(f'Tiền phải trả là: {tien:.0f}')\n",
    "else:\n",
    "    print('Nhập sai số liệu rồi.')\n",
    "\n",
    "    "
   ]
  },
  {
   "cell_type": "code",
   "execution_count": 21,
   "id": "8d919556",
   "metadata": {},
   "outputs": [
    {
     "name": "stdout",
     "output_type": "stream",
     "text": [
      "Đây là số chẵn.\n"
     ]
    }
   ],
   "source": [
    "#Một số bài tập khác\n",
    "#B1\n",
    "a = int(input('Nhập số nguyên: '))\n",
    "if a % 2 == 1:\n",
    "    print('Đây là số lẻ.')\n",
    "else:\n",
    "    print('Đây là số chẵn.')\n"
   ]
  },
  {
   "cell_type": "code",
   "execution_count": 27,
   "id": "bdf97a47",
   "metadata": {},
   "outputs": [
    {
     "name": "stdout",
     "output_type": "stream",
     "text": [
      "True\n"
     ]
    }
   ],
   "source": [
    "#BT2\n",
    "a = int(input('Nhập vào 1 số nguyên: '))\n",
    "if a % 5 == 0 and a % 2 == 1:\n",
    "    print('True')\n",
    "else:\n",
    "    print('False')\n"
   ]
  },
  {
   "cell_type": "code",
   "execution_count": null,
   "id": "7bf977bd",
   "metadata": {},
   "outputs": [
    {
     "name": "stdout",
     "output_type": "stream",
     "text": [
      "True\n"
     ]
    }
   ],
   "source": [
    "#BT3\n",
    "a = int(input('Nhập số: '))\n",
    "if a % 3 == 0 and a % 5 == 0:\n",
    "    print('True')\n",
    "else:\n",
    "    print('False')"
   ]
  },
  {
   "cell_type": "code",
   "execution_count": 32,
   "id": "1b280cbd",
   "metadata": {},
   "outputs": [
    {
     "name": "stdout",
     "output_type": "stream",
     "text": [
      "Bạn đã đủ tuổi để tham gia bầu cử.\n"
     ]
    }
   ],
   "source": [
    "#BT4\n",
    "nam_sinh = int(input('Nhập năm sinh:'))\n",
    "tuoi = 2025 - nam_sinh\n",
    "if tuoi >=18:\n",
    "    print('Bạn đã đủ tuổi để tham gia bầu cử.')\n",
    "else:\n",
    "    print('Bạn chưa đủ tuổi dể tham gia bầu cử.') "
   ]
  },
  {
   "cell_type": "code",
   "execution_count": 37,
   "id": "7048e5a2",
   "metadata": {},
   "outputs": [
    {
     "name": "stdout",
     "output_type": "stream",
     "text": [
      "Hai số bằng nhau.\n"
     ]
    }
   ],
   "source": [
    "#BT5\n",
    "a, b = map(float, input('Nhập vào 2 số: ').split())\n",
    "if a>b:\n",
    "    print(f'{a} là số lớn hơn.')\n",
    "elif a<b:\n",
    "    print(f'{b} là số lớn hơn.')\n",
    "else:\n",
    "    print('Hai số bằng nhau.')"
   ]
  },
  {
   "cell_type": "code",
   "execution_count": 2,
   "id": "5babe17a",
   "metadata": {},
   "outputs": [
    {
     "name": "stdout",
     "output_type": "stream",
     "text": [
      "Đây là chữ cái.\n"
     ]
    }
   ],
   "source": [
    "#BT6\n",
    "a = input('Nhập ký tự:')\n",
    "if 'A' <= a <= 'Z' or 'a' <= a <= 'z':\n",
    "    print('Đây là chữ cái.')\n",
    "elif '0' <= a <= '9':\n",
    "    print('Đây là số.')\n",
    "else:\n",
    "    print('Đây là kí tự đặc biệt.')"
   ]
  },
  {
   "cell_type": "code",
   "execution_count": 9,
   "id": "126c8d51",
   "metadata": {},
   "outputs": [
    {
     "name": "stdout",
     "output_type": "stream",
     "text": [
      "Học lực giỏi.\n"
     ]
    }
   ],
   "source": [
    "#BT7\n",
    "a = float(input('Nhập điểm: '))\n",
    "if  0<=a<5:\n",
    "    print('Học lực yếu.')\n",
    "elif a<6.5:\n",
    "    print('Học lực trung bình.')\n",
    "elif a<8:\n",
    "    print('Học lực khá.')\n",
    "elif 8<=a<=10:\n",
    "    print('Học lực giỏi.')"
   ]
  },
  {
   "cell_type": "code",
   "execution_count": 10,
   "id": "ac15025b",
   "metadata": {},
   "outputs": [
    {
     "name": "stdout",
     "output_type": "stream",
     "text": [
      "Đây là năm nhuận.\n"
     ]
    }
   ],
   "source": [
    "#BT8\n",
    "nam = int(input('Nhập năm: '))\n",
    "if nam % 400 == 0 or nam % 4 == 0 and nam % 100 != 0:\n",
    "    print('Đây là năm nhuận.')\n",
    "else:\n",
    "    print('Đây không phải là năm nhuận')"
   ]
  },
  {
   "cell_type": "code",
   "execution_count": null,
   "id": "8af9df53",
   "metadata": {},
   "outputs": [],
   "source": [
    "#BT9:\n"
   ]
  },
  {
   "cell_type": "code",
   "execution_count": null,
   "id": "ee422789",
   "metadata": {},
   "outputs": [],
   "source": [
    "#BT10\n",
    "diem_thi = float(input('Nhập điểm thi: '))\n",
    "if 0 <= diem_thi <= 10:\n",
    "    if diem_thi >= 4:\n",
    "        print('Qua môn.')\n",
    "    else:\n",
    "        print('Học lại.')\n",
    "else:\n",
    "    print('Nhập sai số rồi.')"
   ]
  }
 ],
 "metadata": {
  "kernelspec": {
   "display_name": "Python 3",
   "language": "python",
   "name": "python3"
  },
  "language_info": {
   "codemirror_mode": {
    "name": "ipython",
    "version": 3
   },
   "file_extension": ".py",
   "mimetype": "text/x-python",
   "name": "python",
   "nbconvert_exporter": "python",
   "pygments_lexer": "ipython3",
   "version": "3.11.9"
  }
 },
 "nbformat": 4,
 "nbformat_minor": 5
}
