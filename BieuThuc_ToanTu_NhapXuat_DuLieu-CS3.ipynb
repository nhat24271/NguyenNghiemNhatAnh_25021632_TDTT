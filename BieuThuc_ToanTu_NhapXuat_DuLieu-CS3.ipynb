{
 "cells": [
  {
   "cell_type": "code",
   "execution_count": null,
   "id": "90067120",
   "metadata": {},
   "outputs": [
    {
     "name": "stdout",
     "output_type": "stream",
     "text": [
      "Hello World!\n"
     ]
    }
   ],
   "source": [
    "#W2A1\n",
    "print(\"Hello World!\")"
   ]
  },
  {
   "cell_type": "code",
   "execution_count": null,
   "id": "7adf35d7",
   "metadata": {},
   "outputs": [
    {
     "name": "stdout",
     "output_type": "stream",
     "text": [
      "Xin chào Nguyễn Nghiêm Nhật Anh\n"
     ]
    }
   ],
   "source": [
    "#W2A2\n",
    "ten_nguoi = input(\"Tên của bạn là:\")\n",
    "print(\"Xin chào\", ten_nguoi)"
   ]
  },
  {
   "cell_type": "code",
   "execution_count": 10,
   "id": "235f3f57",
   "metadata": {},
   "outputs": [
    {
     "name": "stdout",
     "output_type": "stream",
     "text": [
      "Tổng là: 13\n",
      "Hiệu là: 7\n",
      "Tích là: 30\n",
      "Phần nguyên của phép chia là: 3\n",
      "Phần dư của phép chia là: 1\n",
      "Chia thực là: 3.33\n"
     ]
    }
   ],
   "source": [
    "#W2A3\n",
    "a = int(input(\"Nhập số a:\"))\n",
    "b = int(input(\"Nhập số b:\"))\n",
    "tong = a + b\n",
    "print(f\"Tổng là: {tong}\")\n",
    "hieu = a - b\n",
    "print(f\"Hiệu là: {hieu}\")\n",
    "tich = a * b\n",
    "print(f\"Tích là: {tich}\")\n",
    "chia_nguyen = a // b\n",
    "print(f\"Phần nguyên của phép chia là: {chia_nguyen}\")\n",
    "chia_du = a % b\n",
    "print(f\"Phần dư của phép chia là: {chia_du}\")\n",
    "chia_thuc = a / b\n",
    "print(f\"Chia thực là: {chia_thuc:.2f}\")"
   ]
  },
  {
   "cell_type": "code",
   "execution_count": 14,
   "id": "d99d4c71",
   "metadata": {},
   "outputs": [
    {
     "name": "stdout",
     "output_type": "stream",
     "text": [
      "Điểm trung bình môn là: 8.2\n"
     ]
    }
   ],
   "source": [
    "#W2A4\n",
    "a1, b1, c1, a2, b2, a3 = map(float, input(\"Nhập điểm 6 đầu điểm:\").split())\n",
    "diem_trung_binh = (a1 + b1 + c1 +(a2 + b2)*2 + a3*3) / 10\n",
    "print(f\"Điểm trung bình môn là: {diem_trung_binh:.1f}\")"
   ]
  },
  {
   "cell_type": "code",
   "execution_count": 1,
   "id": "11f2b1e4",
   "metadata": {},
   "outputs": [
    {
     "name": "stdout",
     "output_type": "stream",
     "text": [
      "a mũ b là: 8\n"
     ]
    }
   ],
   "source": [
    "#W2A5\n",
    "a, b = map(int, input().split())\n",
    "luy_thua = a ** b\n",
    "print(f\"a mũ b là: {luy_thua}\")"
   ]
  },
  {
   "cell_type": "code",
   "execution_count": 5,
   "id": "9bc88862",
   "metadata": {},
   "outputs": [
    {
     "name": "stdout",
     "output_type": "stream",
     "text": [
      "Mã Uni code của 'f' là: 102\n",
      "Chữ cái in hoa tương ứng của'f' là: F\n"
     ]
    }
   ],
   "source": [
    "#W2A6\n",
    "ky_tu_thuong = input(\"Nhập một ký tự trong khoảng từ 'a' đến 'z':\")\n",
    "uni_code = ord(ky_tu_thuong)\n",
    "in_hoa = ky_tu_thuong.upper()\n",
    "print(f\"Mã Uni code của '{ky_tu_thuong}' là: {uni_code}\")\n",
    "print(f\"Chữ cái in hoa tương ứng của'{ky_tu_thuong}' là: {in_hoa}\")"
   ]
  },
  {
   "cell_type": "code",
   "execution_count": 6,
   "id": "ed902e81",
   "metadata": {},
   "outputs": [
    {
     "name": "stdout",
     "output_type": "stream",
     "text": [
      "Kết quả của phép tính A là: 512\n",
      "Kết quả của phép tính B là: 512\n"
     ]
    }
   ],
   "source": [
    "#W2A7\n",
    "A = ((13 ** 2) * 3) + 5\n",
    "B = 13**2*3 + 5\n",
    "print(f\"Kết quả của phép tính A là: {A}\")\n",
    "print(f\"Kết quả của phép tính B là: {B}\")"
   ]
  },
  {
   "cell_type": "code",
   "execution_count": 10,
   "id": "45ef69fd",
   "metadata": {},
   "outputs": [
    {
     "name": "stdout",
     "output_type": "stream",
     "text": [
      "25.25 độ C đổi ra độ F bằng: 77.45 độ F\n"
     ]
    }
   ],
   "source": [
    "#W2A8\n",
    "C = float(input(\"Nhập độ C: \"))\n",
    "F = 9/5*C + 32\n",
    "print(f\"{C} độ C đổi ra độ F bằng: {F:.2f} độ F\")"
   ]
  },
  {
   "cell_type": "code",
   "execution_count": 2,
   "id": "179878c1",
   "metadata": {},
   "outputs": [
    {
     "name": "stdout",
     "output_type": "stream",
     "text": [
      "Tổng tiền cần trả là: $2808.60\n"
     ]
    }
   ],
   "source": [
    "#W2A9\n",
    "gia_dong_ho = float(input(\"Giá của đồng hồ là: $\"))\n",
    "phi_van_chuyen = 10\n",
    "thue_nhap_canh = gia_dong_ho*0.3\n",
    "thue_VAT = gia_dong_ho*0.1\n",
    "tong_tien = gia_dong_ho + phi_van_chuyen + thue_nhap_canh + thue_VAT\n",
    "print(f\"Tổng tiền cần trả là: ${tong_tien:.2f}\")"
   ]
  },
  {
   "cell_type": "code",
   "execution_count": 6,
   "id": "ac20afd9",
   "metadata": {},
   "outputs": [
    {
     "name": "stdout",
     "output_type": "stream",
     "text": [
      "Hi Tung, Trieu and Nhat.\n"
     ]
    }
   ],
   "source": [
    "#W2A10\n",
    "a, b, c = input('Nhập tên 3 người: ').split()\n",
    "print(f\"Hi {c}, {b} and {a}.\")"
   ]
  },
  {
   "cell_type": "code",
   "execution_count": 8,
   "id": "6fab1dcd",
   "metadata": {},
   "outputs": [
    {
     "name": "stdout",
     "output_type": "stream",
     "text": [
      "Tổng số giây: 88020\n"
     ]
    }
   ],
   "source": [
    "#W2A11\n",
    "h = int(input('Nhập số giờ: '))\n",
    "m = int(input('Nhập số phút: '))\n",
    "s = h*3600 + m*60\n",
    "print(f'Tổng số giây: {s}')"
   ]
  },
  {
   "cell_type": "code",
   "execution_count": 12,
   "id": "0d02f399",
   "metadata": {},
   "outputs": [
    {
     "name": "stdout",
     "output_type": "stream",
     "text": [
      "Tổng số miếng dán cần cho một rubik 4x4 là: 96\n"
     ]
    }
   ],
   "source": [
    "#W2A12\n",
    "a = int(input('Nhập độ dài cạnh rubik: '))\n",
    "mieng_dan = a**2*6\n",
    "print(f'Tổng số miếng dán cần cho một rubik {a}x{a} là: {mieng_dan}')"
   ]
  },
  {
   "cell_type": "code",
   "execution_count": 13,
   "id": "5b990e89",
   "metadata": {},
   "outputs": [
    {
     "name": "stdout",
     "output_type": "stream",
     "text": [
      "Hàng đơn vị của phép tính 8x7 là: 6\n"
     ]
    }
   ],
   "source": [
    "#2A13\n",
    "a = int(input('Nhập số a:'))\n",
    "b = int(input('Nhập số b: '))\n",
    "c = a*b % 10\n",
    "print(f'Hàng đơn vị của phép tính {a}x{b} là: {c}')"
   ]
  },
  {
   "cell_type": "code",
   "execution_count": 17,
   "id": "3db35c47",
   "metadata": {},
   "outputs": [
    {
     "name": "stdout",
     "output_type": "stream",
     "text": [
      "Trước khi hoán đổi giá trị của a=3 và b=6\n",
      "Sau khi hoán đổi giá trị của a=6 và b=3\n"
     ]
    }
   ],
   "source": [
    "#2A14\n",
    "a, b = input('Nhập 2 số a và b').split()\n",
    "print(f'Trước khi hoán đổi giá trị của a={a} và b={b}')\n",
    "a, b = b, a\n",
    "print(f'Sau khi hoán đổi giá trị của a={a} và b={b}')"
   ]
  },
  {
   "cell_type": "code",
   "execution_count": 24,
   "id": "a7f26ac0",
   "metadata": {},
   "outputs": [
    {
     "name": "stdout",
     "output_type": "stream",
     "text": [
      "Với số nguyên dương là: 5 thì số sao tương ứng sẽ là: 121\n"
     ]
    }
   ],
   "source": [
    "#W2A15\n",
    "n = int(input('Nhập số nguyên dương n: '))\n",
    "so_sao = 6*n*(n - 1) + 1\n",
    "print(f'Với số nguyên dương là: {n} thì số sao tương ứng sẽ là: {so_sao}')"
   ]
  },
  {
   "cell_type": "code",
   "execution_count": 21,
   "id": "63017e8c",
   "metadata": {},
   "outputs": [
    {
     "name": "stdout",
     "output_type": "stream",
     "text": [
      "Spring\n",
      "Summer\n",
      "Autumn\n",
      "Winter\n",
      "Spring\n",
      "Summer\n",
      "Autumn\n",
      "Winter\n"
     ]
    }
   ],
   "source": [
    "#W2A16\n",
    "print('Spring\\nSummer\\nAutumn\\nWinter')\n",
    "print('Spring', 'Summer', 'Autumn', 'Winter', sep='\\n')"
   ]
  },
  {
   "cell_type": "code",
   "execution_count": 25,
   "id": "942a14c6",
   "metadata": {},
   "outputs": [
    {
     "name": "stdout",
     "output_type": "stream",
     "text": [
      "  *  \n",
      " *** \n",
      "*****\n"
     ]
    }
   ],
   "source": [
    "#W2A17\n",
    "print('  *  ')\n",
    "print(' *** ')\n",
    "print('*****')"
   ]
  },
  {
   "cell_type": "code",
   "execution_count": 26,
   "id": "4636f91f",
   "metadata": {},
   "outputs": [
    {
     "name": "stdout",
     "output_type": "stream",
     "text": [
      "### ##  ### ###\n",
      " #  # #  #   #\n",
      " #  #  # #   #\n",
      " #  # #  #   #\n",
      " #  ##   #   #\n"
     ]
    }
   ],
   "source": [
    "#W2A18\n",
    "print('### ##  ### ###')\n",
    "print(' #  # #  #   #')\n",
    "print(' #  #  # #   #')\n",
    "print(' #  # #  #   #')\n",
    "print(' #  ##   #   #')"
   ]
  },
  {
   "cell_type": "code",
   "execution_count": 27,
   "id": "ee71cfa9",
   "metadata": {},
   "outputs": [
    {
     "name": "stdout",
     "output_type": "stream",
     "text": [
      "Monday\n",
      "Tuesday\n",
      "Wednesday\n",
      "Thursday\n",
      "Friday\n",
      "Saturday\n",
      "Sunday\n"
     ]
    }
   ],
   "source": [
    "#W2A19\n",
    "print('Monday\\nTuesday\\nWednesday\\nThursday\\nFriday\\nSaturday\\nSunday')"
   ]
  },
  {
   "cell_type": "code",
   "execution_count": 29,
   "id": "db88225f",
   "metadata": {},
   "outputs": [
    {
     "name": "stdout",
     "output_type": "stream",
     "text": [
      "January\n",
      "February\n",
      "March\n",
      "April\n",
      "May\n",
      "June\n",
      "Juny\n",
      "August\n",
      "September\n",
      "October\n",
      "November\n",
      "December\n"
     ]
    }
   ],
   "source": [
    "#W2A20\n",
    "print('January\\nFebruary\\nMarch\\nApril\\nMay\\nJune\\nJuny\\nAugust\\nSeptember\\nOctober\\nNovember\\nDecember')"
   ]
  },
  {
   "cell_type": "code",
   "execution_count": 31,
   "id": "ebeba33e",
   "metadata": {},
   "outputs": [
    {
     "name": "stdout",
     "output_type": "stream",
     "text": [
      "Hello, world\n",
      "Hello, world\n",
      "Hello, world\n",
      "Hello, world\n",
      "Hello, world\n",
      "Hello, world\n",
      "Hello, world\n",
      "Hello, world\n",
      "Hello, world\n",
      "Hello, world\n"
     ]
    }
   ],
   "source": [
    "#W2A21\n",
    "for i in range(10):\n",
    "    print('Hello, world')"
   ]
  }
 ],
 "metadata": {
  "kernelspec": {
   "display_name": "Python 3",
   "language": "python",
   "name": "python3"
  },
  "language_info": {
   "codemirror_mode": {
    "name": "ipython",
    "version": 3
   },
   "file_extension": ".py",
   "mimetype": "text/x-python",
   "name": "python",
   "nbconvert_exporter": "python",
   "pygments_lexer": "ipython3",
   "version": "3.11.9"
  }
 },
 "nbformat": 4,
 "nbformat_minor": 5
}
