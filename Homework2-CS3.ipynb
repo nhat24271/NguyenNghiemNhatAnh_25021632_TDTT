{
 "cells": [
  {
   "cell_type": "code",
   "execution_count": 1,
   "id": "7e473f9c",
   "metadata": {},
   "outputs": [
    {
     "name": "stdout",
     "output_type": "stream",
     "text": [
      "Chu vi của hình chữ nhật là: 18.0\n",
      "Diện tích của hình chữ nhật là: 20.0\n"
     ]
    }
   ],
   "source": [
    "#Bài 1\n",
    "a, b = map(float, input('Nhập độ dài 2 cạnh: ').split())\n",
    "p = (a+b)*2\n",
    "s = a*b\n",
    "print(f'Chu vi của hình chữ nhật là: {p}')\n",
    "print(f'Diện tích của hình chữ nhật là: {s}')"
   ]
  },
  {
   "cell_type": "code",
   "execution_count": 2,
   "id": "24be1812",
   "metadata": {},
   "outputs": [
    {
     "name": "stdout",
     "output_type": "stream",
     "text": [
      "Chu vi của hình tròn là: 25.12\n",
      "Diện tích của hình tròn là: 50.24\n"
     ]
    }
   ],
   "source": [
    "#Bài 2\n",
    "ban_kinh = float(input('Nhập bán kính: '))\n",
    "p = 2*3.14*ban_kinh\n",
    "s = 3.14*ban_kinh**2\n",
    "print(f'Chu vi của hình tròn là: {p}')\n",
    "print(f'Diện tích của hình tròn là: {s}')"
   ]
  },
  {
   "cell_type": "code",
   "execution_count": 3,
   "id": "3c8dad26",
   "metadata": {},
   "outputs": [
    {
     "name": "stdout",
     "output_type": "stream",
     "text": [
      "Đây là tam giác thường.\n",
      "Chu vi của tam giác là: 19.00\n",
      "Diện tích của tam giác là: 9.56\n"
     ]
    }
   ],
   "source": [
    "#Bài 3\n",
    "a, b, c = map(float, input('Nhập độ dài của ba cạnh tam giác: ').split())\n",
    "if not a>0 and b>0 and c>0 and a+b>c and a+c>b and b+c>a:\n",
    "    print('Không là ba cạnh của một tam giác.')\n",
    "else:\n",
    "    if a==b and a==c:\n",
    "        print('Đây là tam giác đều.')\n",
    "    elif a==b and a!=c or a==c and a!=b or b==c and b!=a:\n",
    "        print('Đây là tam giác cân.')\n",
    "    elif a*a + b*b == c*c or a*a +c*c == b*b or b*b + c*c == a*a:\n",
    "        print('Đây là tam giác vuông.')\n",
    "    else:\n",
    "        print('Đây là tam giác thường.')\n",
    "    chu_vi = a+b+c\n",
    "    p=chu_vi/2\n",
    "    s=(p*(p-a)*(p-b)*(p-c))**0.5\n",
    "    print(f'Chu vi của tam giác là: {chu_vi:.2f}')\n",
    "    print(f'Diện tích của tam giác là: {s:.2f}')        "
   ]
  },
  {
   "cell_type": "code",
   "execution_count": 7,
   "id": "e09b7edb",
   "metadata": {},
   "outputs": [
    {
     "name": "stdout",
     "output_type": "stream",
     "text": [
      "Nghiệm của phương trình là: 1.00\n"
     ]
    }
   ],
   "source": [
    "#Bài 4\n",
    "a, b = map(float, input('Nhập hệ số a và b: ').split())\n",
    "if a==0:\n",
    "    if b==0:\n",
    "        print('Phương trình có vô số nghiệm.')\n",
    "    else:\n",
    "        print('Phương trình vô nghiệm.')\n",
    "else:\n",
    "    x=(-b)/a\n",
    "    print(f'Nghiệm của phương trình là: {x:.2f}')"
   ]
  },
  {
   "cell_type": "code",
   "execution_count": 1,
   "id": "edf5bdca",
   "metadata": {},
   "outputs": [
    {
     "name": "stdout",
     "output_type": "stream",
     "text": [
      "Phương trình có 2 nghiệm phân biệt là: -0.44 và -4.56\n"
     ]
    }
   ],
   "source": [
    "#Bài 5\n",
    "a, b, c = map(float, input('Nhập cơ số a, b, c: ').split())\n",
    "delta = b*b - 4*a*c\n",
    "if delta > 0:\n",
    "    x_1 = (-b + delta**0.5)/2*a\n",
    "    x_2 = (-b -delta**0.5)/2*a\n",
    "    print(f'Phương trình có 2 nghiệm phân biệt là: {x_1:.2f} và {x_2:.2f}')\n",
    "elif delta == 0:\n",
    "    x = (-b)/2*a\n",
    "    print(f'Phương trình có nghiệm duy nhất là: {x}')\n",
    "else:\n",
    "    print('Phương trình vô nghiệm.')"
   ]
  },
  {
   "cell_type": "code",
   "execution_count": 5,
   "id": "0357200b",
   "metadata": {},
   "outputs": [
    {
     "name": "stdout",
     "output_type": "stream",
     "text": [
      "Giá trị lớn nhất là: 4.0\n"
     ]
    }
   ],
   "source": [
    "#Bài 6\n",
    "a, b, c, d = map(float, input('Nhập 4 số a, b, c, d: ').split())\n",
    "max = a\n",
    "if max < b:\n",
    "    max = b\n",
    "if max < c:\n",
    "    max = c\n",
    "if max < d:\n",
    "    max = d\n",
    "print(f'Giá trị lớn nhất là: {max}')\n"
   ]
  },
  {
   "cell_type": "code",
   "execution_count": 8,
   "id": "9d6c9953",
   "metadata": {},
   "outputs": [
    {
     "name": "stdout",
     "output_type": "stream",
     "text": [
      "Số có giá trị bé nhất là: 2.0\n"
     ]
    }
   ],
   "source": [
    "#Bài 7\n",
    "a, b, c, d = map(float, input('Nhập 4 số a, b, c, d: ').split())\n",
    "min = a\n",
    "if min > b:\n",
    "    min = b\n",
    "if min > c:\n",
    "    min = c\n",
    "if min > d:\n",
    "    min = d\n",
    "print(f'Số có giá trị bé nhất là: {min}')"
   ]
  },
  {
   "cell_type": "code",
   "execution_count": null,
   "id": "b71a261e",
   "metadata": {},
   "outputs": [
    {
     "name": "stdout",
     "output_type": "stream",
     "text": [
      "Hệ phương trình có 1 nghiệm duy nhất.\n",
      "x=4.00\n",
      "y=-8.00\n"
     ]
    }
   ],
   "source": [
    "#Bài 8\n",
    "a, b, m = map(float, input('Nhập cơ số a, b, m: ').split())\n",
    "c, d, n = map(float, input('Nhập cơ số c, d, n:v').split())\n",
    "det_A = a*d - b*c\n",
    "det_X = m*d - n*b\n",
    "det_Y = a*n - c*m\n",
    "if det_A != 0:\n",
    "    print('Hệ phương trình có 1 nghiệm duy nhất.')\n",
    "    X = det_X/det_A\n",
    "    Y = det_Y/det_A\n",
    "    print(f'x={X:.2f}')\n",
    "    print(f'y={Y:.2f}')\n",
    "elif det_A == 0:\n",
    "    if det_X == 0 and det_Y == 0:\n",
    "        print('Hệ phương trình có vô số nghiệm.')\n",
    "    else:\n",
    "        print('Hệ phương trình vô nghiệm.')\n",
    "   \n",
    "\n"
   ]
  },
  {
   "cell_type": "code",
   "execution_count": 23,
   "id": "4a03246a",
   "metadata": {},
   "outputs": [
    {
     "name": "stdout",
     "output_type": "stream",
     "text": [
      "Đổi ra là: 2 giờ 10 phút và 7 giây.\n"
     ]
    }
   ],
   "source": [
    "#Bài 9\n",
    "giay = int(input('Nhập vào số giây: '))\n",
    "gio = giay // 3600\n",
    "giay_du = giay % 3600\n",
    "phut = giay_du//60\n",
    "giay_sau = giay_du%60\n",
    "print(f'Đổi ra là: {gio} giờ {phut} phút và {giay_sau} giây.')"
   ]
  },
  {
   "cell_type": "code",
   "execution_count": 32,
   "id": "1b31090d",
   "metadata": {},
   "outputs": [
    {
     "name": "stdout",
     "output_type": "stream",
     "text": [
      "Điểm A(2.0,0.0) thuộc đường tròn.\n"
     ]
    }
   ],
   "source": [
    "#Bài 10\n",
    "R = float(input('Nhập bán kính đường tròn: '))\n",
    "x, y = map(float, input('Nhập tọa độ x, y của điểm A: ').split())\n",
    "if R**2 == x**2 + y**2:\n",
    "    print(f'Điểm A({x},{y}) thuộc đường tròn.')\n",
    "elif R**2 > x**2 + y**2:\n",
    "    print(f'Điểm A({x},{y}) nằm trong đường tròn.')\n",
    "else:\n",
    "    print(f'Điểm A({x},{y}) nằm ngoài đường tròn.')\n"
   ]
  },
  {
   "cell_type": "code",
   "execution_count": 37,
   "id": "9bc3d65d",
   "metadata": {},
   "outputs": [
    {
     "name": "stdout",
     "output_type": "stream",
     "text": [
      "1.86\n"
     ]
    }
   ],
   "source": [
    "#Bài 11\n",
    "x = float(input('Nhập cơ số x: '))\n",
    "y = float(input('Nhập số mũ y: '))\n",
    "ket_qua = x**y\n",
    "print(f'{ket_qua:.2f}')"
   ]
  }
 ],
 "metadata": {
  "kernelspec": {
   "display_name": "Python 3",
   "language": "python",
   "name": "python3"
  },
  "language_info": {
   "codemirror_mode": {
    "name": "ipython",
    "version": 3
   },
   "file_extension": ".py",
   "mimetype": "text/x-python",
   "name": "python",
   "nbconvert_exporter": "python",
   "pygments_lexer": "ipython3",
   "version": "3.11.9"
  }
 },
 "nbformat": 4,
 "nbformat_minor": 5
}
